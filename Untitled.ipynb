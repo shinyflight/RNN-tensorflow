{
 "cells": [
  {
   "cell_type": "code",
   "metadata": {
    "collapsed": false
   },
   "outputs": [
    {
     "name": "stdout",
     "output_type": "stream",
     "text": [
      "loading data...\n",
      "data is loaded completely\n",
      "[[1 2]\n",
      " [1 3]\n",
      " [2 3]\n",
      " [1 3]\n",
      " [1 2]\n",
      " [2 2]\n",
      " [2 1]\n",
      " [3 1]\n",
      " [3 0]\n",
      " [2 0]\n",
      " [3 0]]\n",
      "[[1 2]\n",
      " [1 3]\n",
      " [2 3]\n",
      " [1 3]\n",
      " [1 2]\n",
      " [2 2]\n",
      " [2 1]\n",
      " [3 1]\n",
      " [3 0]\n",
      " [2 0]]\n",
      "[[1 3]\n",
      " [2 3]\n",
      " [1 3]\n",
      " [1 2]\n",
      " [2 2]\n",
      " [2 1]\n",
      " [3 1]\n",
      " [3 0]\n",
      " [2 0]\n",
      " [3 0]]\n"
     ]
    }
   ],
   "source": [
    "import numpy as np\n",
    "\n",
    "def load_data(path):\n",
    "    \"\"\"\n",
    "    * input\n",
    "        path: path of data\n",
    "    * output\n",
    "        data: (num_examples, len_sequence, state_dim), 25 states are embedded in 2-dimension\n",
    "        max_len: maximum length of sequence\n",
    "        num_class: for setting dimension of RNN output vector\n",
    "    \"\"\"\n",
    "    print('loading data...')\n",
    "    file = open(path, 'r')\n",
    "    pre_data = [line.split(' ') for line in file.readlines()]\n",
    "    data = []\n",
    "    seq_len = []\n",
    "    for row in pre_data:\n",
    "        row_list = []\n",
    "        for col in row:\n",
    "            if col != 'NaN' and col != 'NaN\\n' and col != '\\n':\n",
    "                i = int(int(col)/5) # number to matrix index (i,j)\n",
    "                j = int(col) % 5\n",
    "                embedded = [i,j]\n",
    "                row_list.append(embedded)\n",
    "        seq_len.append(len(row_list))\n",
    "        data.append(np.array(row_list))\n",
    "    max_len = max(seq_len)\n",
    "    print('data is loaded completely')\n",
    "    return data, seq_len, max_len\n",
    "print(data[0])\n",
    "print(data[0][0:-1])\n",
    "print(data[0][1:])"
   ]
  },
  {
   "cell_type": "code",
   "execution_count": 44,
   "metadata": {
    "collapsed": false
   },
   "outputs": [
    {
     "name": "stdout",
     "output_type": "stream",
     "text": [
      "[[0 0 0 0 0 0 0 0 0 0 0 0 0 0 0 0 0 0 0 0 0 0 0 0 0]\n",
      " [0 0 0 1 0 0 0 0 0 0 0 0 0 0 0 0 0 0 0 0 0 0 0 0 0]\n",
      " [0 0 0 1 0 0 0 0 0 0 0 0 0 0 0 0 0 0 0 0 0 0 0 0 0]\n",
      " [0 0 0 0 0 0 0 0 0 0 0 0 0 0 0 0 0 0 0 0 0 0 0 0 0]]\n"
     ]
    }
   ],
   "source": [
    "import tensorflow as tf\n",
    "\n",
    "def make_mask(x):\n",
    "    indices = tf.constant([[1,3], [2,3], [3,3], [4,3]])\n",
    "    updates = tf.constant([1, 1, 1, 1])\n",
    "    shape = tf.constant([4, 25])\n",
    "    scatter = tf.scatter_nd(indices, updates, shape)\n",
    "    with tf.Session() as sess:\n",
    "        print(sess.run(scatter))"
   ]
  },
  {
   "cell_type": "code",
   "execution_count": null,
   "metadata": {
    "collapsed": true
   },
   "outputs": [],
   "source": []
  }
 ],
 "metadata": {
  "anaconda-cloud": {},
  "kernelspec": {
   "display_name": "Python [conda root]",
   "language": "python",
   "name": "conda-root-py"
  },
  "language_info": {
   "codemirror_mode": {
    "name": "ipython",
    "version": 3
   },
   "file_extension": ".py",
   "mimetype": "text/x-python",
   "name": "python",
   "nbconvert_exporter": "python",
   "pygments_lexer": "ipython3",
   "version": "3.5.2"
  }
 },
 "nbformat": 4,
 "nbformat_minor": 1
}
